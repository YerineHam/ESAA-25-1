{
  "nbformat": 4,
  "nbformat_minor": 0,
  "metadata": {
    "colab": {
      "provenance": []
    },
    "kernelspec": {
      "name": "python3",
      "display_name": "Python 3"
    },
    "language_info": {
      "name": "python"
    }
  },
  "cells": [
    {
      "cell_type": "markdown",
      "source": [
        "**주제 및 데이터**\n",
        "\n",
        "주제: Social media usage\n",
        "\n",
        "데이터: social_media_usage.csv\n",
        "- 칼럼: User_ID, App, Daily_Minutes_Spent, Posts_Per_Day, Likes_Per_Day, Follows_Per_Day"
      ],
      "metadata": {
        "id": "BHEgS66hnSvo"
      }
    },
    {
      "cell_type": "markdown",
      "source": [
        "**코드 리뷰**\n",
        "\n",
        "(1) 전처리 및 EDA\n",
        "- 결측치/중복값/이상치 확인\n",
        "- 히스토그램으로 각 수치형 변수의 분포 확인\n",
        "- 히트맵으로 변수 별 상관관계 확인\n",
        "- 추가 변수 생성: Total_Engagement, Engagement_Per_Minute\n",
        "\n",
        "(2) 모델링\n",
        "- High_Engagement 변수 생성 후 타켓으로 설정\n",
        "- StandardScaler를 이용한 스케일링\n",
        "- LogisticRegression, RandomForest, SVM, KNN 모델 사용\n",
        "- Accuracy, Precision, Recall, F1-score 지표 확인\n",
        "- ROC curve 시각화\n",
        "\n",
        "(3) 결과 분석\n",
        "- 각 모델의 Confusion matrix 시각화\n",
        "- Classification Report 출력"
      ],
      "metadata": {
        "id": "LeH52zWanVV4"
      }
    },
    {
      "cell_type": "markdown",
      "source": [
        "**차별 점 및 배울 점**"
      ],
      "metadata": {
        "id": "H7YQmjWsnXeO"
      }
    },
    {
      "cell_type": "markdown",
      "source": [
        "- 여러 개의 칼럼 값을 합치거나 나누는 방식으로 새로운 변수를 생성하였다.\n",
        "- 각 모델의 ROC curve를 한 번에 표현함으로써 한 눈에 비교하기 쉽도록 했다.\n",
        "- 다양한 지표를 활용하여 결과를 분석하고자 했던 점이 좋았다."
      ],
      "metadata": {
        "id": "mbgLKoHXrCIl"
      }
    }
  ]
}