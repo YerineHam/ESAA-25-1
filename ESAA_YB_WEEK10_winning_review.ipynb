{
  "nbformat": 4,
  "nbformat_minor": 0,
  "metadata": {
    "colab": {
      "provenance": []
    },
    "kernelspec": {
      "name": "python3",
      "display_name": "Python 3"
    },
    "language_info": {
      "name": "python"
    }
  },
  "cells": [
    {
      "cell_type": "markdown",
      "source": [
        "**주제 및 데이터**"
      ],
      "metadata": {
        "id": "MrrZHS6SDquB"
      }
    },
    {
      "cell_type": "markdown",
      "source": [
        "주제: 신용카드 고객 세그먼트 분류 AI 경진대회\n",
        "\n",
        "데이터:\n",
        "- train.csv\n",
        "    - 고객별 금융활동 데이터 (회원 정보, 신용 정보 등)\n",
        "    - Target: 고객 세그먼트(A~E)\n",
        "- test.csv\n",
        "    - 고객별 금융활동 데이터\n",
        "- 데이터 명세.xlsx\n",
        "    - 고객 금융활동 데이터에 대한 명세"
      ],
      "metadata": {
        "id": "sX19W0unD2og"
      }
    },
    {
      "cell_type": "markdown",
      "source": [
        "**코드 리뷰**"
      ],
      "metadata": {
        "id": "8Hp0UDWFDs-Z"
      }
    },
    {
      "cell_type": "markdown",
      "source": [
        "(1) EDA 및 전처리\n",
        "- 세그먼트 비율 확인 -> E가 압도적으로 많고, A와 B는 매우 적음, 불균형 데이터\n",
        "- 결측치가 너무 많은 변수는 삭제, 일부는 '기타'로 분류, 일부는 중앙값으로 대체\n",
        "- 문자열 변수를 숫자로 인코딩해서 변환\n",
        "- 당사 멤버쉽 여부에 대한 파생 변수 생성, 원천 변수 삭제\n",
        "- box plot, heatmap을 이용한 상관관계 분석\n",
        "\n",
        "(2) 모델링\n",
        "- XGBoost, CatBoost, LightGBM 모델 사용\n",
        "- Feature Importance를 확인하여 상위 변수를 추출\n",
        "- Oversampling을 통해 클래스 간 불균형 보정\n",
        "- 하이퍼 파라미터 튜닝\n",
        "- 소프트 보팅 사용\n",
        "\n",
        "(3) 최종\n",
        "- XGBoost 40% + LightGBM 30% + CatBoost 30%"
      ],
      "metadata": {
        "id": "ssbq9WRAFVH9"
      }
    },
    {
      "cell_type": "markdown",
      "source": [
        "**차별 점 및 배울 점**"
      ],
      "metadata": {
        "id": "9c9bdVRHDvHe"
      }
    },
    {
      "cell_type": "markdown",
      "source": [
        "- 머신러닝을 공부하면서는 GPU를 이용해본 적이 없는데, 이번 수상작에서는 GPU를 이용했다는 점이 새로웠다.\n",
        "- 클래스 간의 불균형을 Oversampling을 통해 보정하였다.\n",
        "- 소프트 보팅을 이용하여 각 모델에 가중치를 부여함으로써, XGBoost가 가장 중요한 모델로 간주됨을 확인할 수 있었다."
      ],
      "metadata": {
        "id": "E5X4nPRJGrLD"
      }
    }
  ]
}