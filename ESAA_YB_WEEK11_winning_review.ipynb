{
  "nbformat": 4,
  "nbformat_minor": 0,
  "metadata": {
    "colab": {
      "provenance": []
    },
    "kernelspec": {
      "name": "python3",
      "display_name": "Python 3"
    },
    "language_info": {
      "name": "python"
    }
  },
  "cells": [
    {
      "cell_type": "markdown",
      "source": [
        "**주제 및 데이터**"
      ],
      "metadata": {
        "id": "qCPo4VkdZj4y"
      }
    },
    {
      "cell_type": "markdown",
      "source": [
        "주제: 제주 특산물 가격 예측 AI 경진대회\n",
        "\n",
        "데이터:\n",
        "- train.csv: 2019년 01월 01일부터 2023년 03월 03일까지의 유통된 품목 관련 정보\n",
        "- international_trade.csv: 관련 품목 수출입 정보\n",
        "- test.csv: 2023년 03월 04일부터 2023년 03월 31일까지의 데이터"
      ],
      "metadata": {
        "id": "NW5hZ_ZlZzPk"
      }
    },
    {
      "cell_type": "markdown",
      "source": [
        "**코드 리뷰**"
      ],
      "metadata": {
        "id": "6v--KYpIZmcx"
      }
    },
    {
      "cell_type": "markdown",
      "source": [
        "(1) EDA 및 Feature Engineering\n",
        "- 시계열 파생 변수 생성, 공휴일 변수 추가\n",
        "- TG / TG 외 품목의 프로세스를 다르게 함\n",
        "- Price에 루트: 가격의 범위를 좁힘\n",
        "- 이상치 값이 명확한 품목을 품목의 평균으로 대체\n",
        "- supply, season 변수 제외\n",
        "\n",
        "(2) 모델링\n",
        "- Time Series Cross Validation 수행\n",
        "- TG 외 품목 모델: CatBoost + XGBoost 앙상블\n",
        "- TG 모델: CatBoost + XGBoost 앙상블/ CatBoost 단일 모델\n",
        "    - 두 결과값의 평균을 활용\n",
        "\n",
        "(3) 후처리\n",
        "- 품목 별 0을 제외한 price의 최솟값 확인, 최솟값보다 작은 값은 0으로 처리\n"
      ],
      "metadata": {
        "id": "vRLloJL9aKwu"
      }
    },
    {
      "cell_type": "markdown",
      "source": [
        "**차별점 및 배울점**"
      ],
      "metadata": {
        "id": "-zVhVDb5Zp0M"
      }
    },
    {
      "cell_type": "markdown",
      "source": [
        "- TG와 TG외의 품목에 대한 프로세를 다르게 하였다.\n",
        "- 시간의 순서가 보존된 Time Series Cross Validation을 수행하였다.\n",
        "- 앙상블 결과와 단일 모델 결과의 평균을 활용하였다."
      ],
      "metadata": {
        "id": "0IMm5yjhcjLK"
      }
    }
  ]
}