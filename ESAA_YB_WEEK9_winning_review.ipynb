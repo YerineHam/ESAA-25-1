{
  "nbformat": 4,
  "nbformat_minor": 0,
  "metadata": {
    "colab": {
      "provenance": []
    },
    "kernelspec": {
      "name": "python3",
      "display_name": "Python 3"
    },
    "language_info": {
      "name": "python"
    }
  },
  "cells": [
    {
      "cell_type": "markdown",
      "source": [
        "**주제 및 데이터**"
      ],
      "metadata": {
        "id": "1iZev6zThKQB"
      }
    },
    {
      "cell_type": "markdown",
      "source": [
        "주제: 악성 URL 분류 AI 경진대회\n",
        "\n",
        "데이터:\n",
        "- train.csv (6995056개의 데이터)\n",
        "    - ID: 샘플 별 고유 ID\n",
        "    - URL\n",
        "    - label (0: 정상 URL/ 1: 악성 URL)\n",
        "- test.csv (1747689개의 데이터)\n",
        "    - ID: 샘플 별 고유 ID\n",
        "    - URL"
      ],
      "metadata": {
        "id": "P-4DV6cMpIT8"
      }
    },
    {
      "cell_type": "markdown",
      "source": [
        "**코드 리뷰**"
      ],
      "metadata": {
        "id": "gfpKjv7TpPjn"
      }
    },
    {
      "cell_type": "markdown",
      "source": [
        "(1) EDA 및 전처리\n",
        "- 바 플롯, 박스 플롯으로 시각화\n",
        "- 기본 특징: URL 길이, 숫자 개수 등 -> 길이가 길수록, 서브 도메인 개수가 많을수록 악성 비율이 높음을 파악\n",
        "- 특수문자 개수, 특정 특수문자 포함 여부 -> 특수문자 개수가 많을수록, 그리고 '@' 문자가 포함 되었을 때 악성 비율이 높음을 파악\n",
        "- 대문자 포함 여부, IP 주소 여부 -> 둘 다 포함되면 악성 비율이 높음을 파악\n",
        "- 결측치는 칼럼 값의 평균으로 처리\n",
        "\n",
        "(2) 인코딩 및 스케일링\n",
        "- OneHotEncoder 사용 시 피처 수가 너무 많아져서 BinaryEncoder 사용\n",
        "- CatBoost의 경우에는 인코딩 X\n",
        "- StandardScaler와 RobustScaler 사용\n",
        "\n",
        "(3) 모델링\n",
        "- 트리 기반 모델(XGBoost, CatBoost, LightGBM) 사용\n",
        "- Optuna를 이용해서 하이퍼 파라미터 튜닝\n",
        "\n",
        "(4) 앙상블\n",
        "- 소프트 보팅 사용\n",
        "- logit 변환을 통해 확률 값이 치우치는 것을 방지"
      ],
      "metadata": {
        "id": "HqtfuGNNqunR"
      }
    },
    {
      "cell_type": "markdown",
      "source": [
        "**차별 점 및 배울 점**"
      ],
      "metadata": {
        "id": "XueYlghnpUos"
      }
    },
    {
      "cell_type": "markdown",
      "source": [
        "- 교재에서 CatBoost에 대해 배우진 않았지만, CatBoost 이용 시 성능이 가장 높게 나오는 경우가 많다고 들었는데 수상작에서도 CatBoost를 활용한 것을 보니, 향후 프로젝트 진행 시 스스로 적용해보면 좋을 것 같다는 생각이 들었다.\n",
        "- RobustScaler로 스케일링을 하고, Optuna를 이용해서 하이퍼 파라미터 튜닝을 했다는 점이 새롭다.\n",
        "- logit 변환의 중요성에 대해 이해할 수 있었다."
      ],
      "metadata": {
        "id": "a9O9D2X6vEAP"
      }
    }
  ]
}