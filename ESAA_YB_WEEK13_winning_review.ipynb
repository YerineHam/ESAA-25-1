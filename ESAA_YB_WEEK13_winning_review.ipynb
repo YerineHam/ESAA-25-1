{
  "nbformat": 4,
  "nbformat_minor": 0,
  "metadata": {
    "colab": {
      "provenance": []
    },
    "kernelspec": {
      "name": "python3",
      "display_name": "Python 3"
    },
    "language_info": {
      "name": "python"
    }
  },
  "cells": [
    {
      "cell_type": "markdown",
      "source": [
        "**주제 및 데이터**\n",
        "\n",
        "주제: 은행 고객 이탈여부 예측\n",
        "\n",
        "데이터:\n",
        "- train.csv: 은행 고객 관련 정보, ID(고유 ID), Exited(이탈 여부)\n",
        "- test.csv: 은행 고객 관련 정보, ID(고유 ID)"
      ],
      "metadata": {
        "id": "wcBHahIr6116"
      }
    },
    {
      "cell_type": "markdown",
      "source": [
        "**코드 리뷰**\n",
        "\n",
        "(1) 전처리 및 EDA\n",
        "- 결측치 확인 -> 없음\n",
        "- 타겟(Exited) 분포 시각화\n",
        "- 수치형 변수의 상관관계 히트맵 시각화\n",
        "- 변수 별 이탈 여부 시각화\n",
        "- 범주형 변수 라벨 인코딩, 수치형 변수 스케일링\n",
        "- SMOTE로 Exited의 불균형 해결\n",
        "\n",
        "(2) 모델링\n",
        "- voting 및 pseudo 사용\n",
        "- GridsearchCV로 튜닝\n",
        "- StratifiedKFold: 5폴드 -> 10폴드\n",
        "- Stacking 적용: 베이스 모델(XGBoost, LightGBM, CatBoost), 메타 모델(LogisticRegression)"
      ],
      "metadata": {
        "id": "6a6zSZP16259"
      }
    },
    {
      "cell_type": "markdown",
      "source": [
        "**차별 점 및 배울 점**\n",
        "\n",
        "- SMOTE 기법으로 클래스의 불균형을 조정하였다.\n",
        "- StratifiedKFold의 폴드 수를 10으로 설정하였다."
      ],
      "metadata": {
        "id": "cAp-8LOt64vF"
      }
    }
  ]
}