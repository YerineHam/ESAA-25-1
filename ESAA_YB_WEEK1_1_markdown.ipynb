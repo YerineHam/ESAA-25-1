{
  "nbformat": 4,
  "nbformat_minor": 0,
  "metadata": {
    "colab": {
      "provenance": []
    },
    "kernelspec": {
      "name": "python3",
      "display_name": "Python 3"
    },
    "language_info": {
      "name": "python"
    }
  },
  "cells": [
    {
      "cell_type": "markdown",
      "source": [
        "# **[개념 정리]**"
      ],
      "metadata": {
        "id": "Bq9xyAf3g9Ft"
      }
    },
    {
      "cell_type": "markdown",
      "source": [
        "**넘파이(NumPy)**: 파이썬에서 선형대수 기반의 프로그램을 쉽게 만들 수 있도록 지원하는 대표 패키지\n",
        "\n",
        "**ndarray**: 넘파이의 기반 데이터 타입\n",
        "- 다차원 배열을 쉽게 생성, 다양한 연산 수행\n",
        "- array() 함수: 다양한 인자를 입력 받아서 ndarray로 변환하는 기능 수행"
      ],
      "metadata": {
        "id": "GZ0VMYCkhVTg"
      }
    },
    {
      "cell_type": "markdown",
      "source": [
        "ndarray의 데이터 타입\n",
        "- 데이터 값은 숫자, 문자열, 불 등 모두 가능\n",
        "- 연산의 특성상 같은 데이터 타입만 가능, dtype 속성으로 확인 가능\n",
        "- 다른 데이터 유형이 섞여 있는 리스트를 변환할 경우 데이터 크기가 더 큰 데이터 타입으로 일괄 적용\n",
        "- astype() 메서드: 데이터 값의 타입 변경\n",
        "    - 인자로 원하는 타입을 문자열로 지정"
      ],
      "metadata": {
        "id": "oaKKtH8EOVSL"
      }
    },
    {
      "cell_type": "markdown",
      "source": [
        "ndarray를 편리하게 생성\n",
        "- arange(): array를 range()로 표현하는 것\n",
        "    - 0부터 함수 인자 값 -1까지의 값을 순차적으로 ndarray의 데이터 값으로 변환\n",
        "- zeros(): 함수 인자로 튜플 형태의 shape 값을 입력하면 모든 값을 0으로 채운 해당 shape를 가진 ndarray를 반환\n",
        "- ones(): 함수 인자로 튜플 형태의 shape 값을 입력하면 모든 값을 1로 채운 해당 shape를 가진 ndarray를 반환"
      ],
      "metadata": {
        "id": "V-Sl4uqMQKMV"
      }
    },
    {
      "cell_type": "markdown",
      "source": [
        "reshape(): ndarray를 특정 차원 및 크기로 변환\n",
        "- -1을 인자로 사용하면 원래 ndarray와 호환되는 새로운 shape로 변환"
      ],
      "metadata": {
        "id": "MjmUvc5IRS27"
      }
    },
    {
      "cell_type": "markdown",
      "source": [
        "ndarray의 데이터 세트 선택 - 인덱싱\n",
        "- 특정 데이터만 추출: 원하는 위치의 인덱스 값을 지정하면 해당 위치의 데이터가 반환\n",
        "- 슬라이싱: 연속된 인덱스상의 ndarray를 추출\n",
        "- 팬시 인덱싱: 일정한 인덱싱 집합을 리스트 또는 ndarray 형태로 지정해 해당 위치에 있는 데이터의 ndarray를 반환\n",
        "- 불린 인덱싱: 특정 조건에 해당하는지 여부인 True/False 값 인덱싱 집합을 기반으로 True에 해당하는 인덱스 위치에 있는 데이터의 ndarray를 반환"
      ],
      "metadata": {
        "id": "lMCnZhhlTULM"
      }
    },
    {
      "cell_type": "markdown",
      "source": [
        "**슬라이싱**: ':' 기호를 이용해 데이터 슬라이싱해서 추출\n",
        "- 기호 사이에 시작 인덱스와 종료 인덱스를 표시하면 시작 인덱스에서 종료 인덱스 -1 위치에 있는 데이터의 ndarray를 반환\n",
        "    - 시작 인덱스 생략: 맨 처음 인덱스인 0으로 간주\n",
        "    - 종료 인덱스 생략: 맨 마지막 인덱스로 간주"
      ],
      "metadata": {
        "id": "wpMnwoyRVw2x"
      }
    },
    {
      "cell_type": "markdown",
      "source": [
        "**팬시 인덱싱**: 리스트나 ndarray로 인덱스 집합을 지정하면 해당 위치의 인덱스에 해당하는 ndarray를 반환하는 인덱싱 방식"
      ],
      "metadata": {
        "id": "LABjS_SFXRwt"
      }
    },
    {
      "cell_type": "markdown",
      "source": [
        "**불린 인덱싱**: 조건 필터링과 검색을 동시에 할 수 있어 매우 자주 사용되는 인덱싱 방식\n",
        "- '[ ]' 내에 원하는 필터링 조건만 넣으면 해당 조건을 만족하는 ndarray 데이터 세트를 반환"
      ],
      "metadata": {
        "id": "g2Shchj2X1jq"
      }
    },
    {
      "cell_type": "markdown",
      "source": [
        "행렬의 정렬\n",
        "- np.sort(): 원 행렬을 그대로 유지한 채 원 행렬의 정렬된 행렬을 반환\n",
        "- ndarray.sort(): 원 행렬 자체를 정렬한 형태로 변환하며 반환 값은 None\n",
        "- np.agsort(): 정렬 행렬의 원본 행렬 인덱스를 ndarray형으로 반환"
      ],
      "metadata": {
        "id": "SlTlu8fWZtCP"
      }
    },
    {
      "cell_type": "markdown",
      "source": [
        "선형대수 연산\n",
        "- 행렬 내적: 행렬 곱, np.dot()을 이용해 계산 가능\n",
        "- 전치 행렬: 원 행렬에서 행과 열 위치를 교환한 원소로 구성한 행렬\n",
        "    - transpose()로 쉽게 구하기 가능"
      ],
      "metadata": {
        "id": "tJrOJGNsdtND"
      }
    },
    {
      "cell_type": "markdown",
      "source": [
        "# **[코드 필사]**"
      ],
      "metadata": {
        "id": "EIGpRYR3hJra"
      }
    },
    {
      "cell_type": "markdown",
      "source": [
        "넘파이 ndarray 개요"
      ],
      "metadata": {
        "id": "enGkurXrKFAm"
      }
    },
    {
      "cell_type": "code",
      "source": [
        "import numpy as np"
      ],
      "metadata": {
        "id": "a6lp90jSKH4M"
      },
      "execution_count": 1,
      "outputs": []
    },
    {
      "cell_type": "code",
      "source": [
        "array1=np.array([1,2,3])\n",
        "print('array1 type:', type(array1))\n",
        "print('array1 array 형태:', array1.shape)\n",
        "\n",
        "array2=np.array([[1,2,3],\n",
        "                [2,3,4]])\n",
        "print('array2 type:', type(array2))\n",
        "print('array2 array 형태:', array2.shape)\n",
        "\n",
        "array3=np.array([[1,2,3]])\n",
        "print('array3 type:', type(array3))\n",
        "print('array3 array 형태:', array3.shape)"
      ],
      "metadata": {
        "colab": {
          "base_uri": "https://localhost:8080/"
        },
        "id": "V4UfKYbwLK0G",
        "outputId": "1ccefbbf-6ae6-4449-b254-ff18b93183fb"
      },
      "execution_count": 2,
      "outputs": [
        {
          "output_type": "stream",
          "name": "stdout",
          "text": [
            "array1 type: <class 'numpy.ndarray'>\n",
            "array1 array 형태: (3,)\n",
            "array2 type: <class 'numpy.ndarray'>\n",
            "array2 array 형태: (2, 3)\n",
            "array3 type: <class 'numpy.ndarray'>\n",
            "array3 array 형태: (1, 3)\n"
          ]
        }
      ]
    },
    {
      "cell_type": "code",
      "source": [
        "print('array1: {0}차원, array2: {1}차원, array3: {2}차원'.format(array1.ndim,\n",
        "                                                           array2.ndim, array3.ndim))"
      ],
      "metadata": {
        "colab": {
          "base_uri": "https://localhost:8080/"
        },
        "id": "ozMp1zMuOD1i",
        "outputId": "16e238ba-6eab-4798-ba7a-5557a01d5b98"
      },
      "execution_count": 3,
      "outputs": [
        {
          "output_type": "stream",
          "name": "stdout",
          "text": [
            "array1: 1차원, array2: 2차원, array3: 2차원\n"
          ]
        }
      ]
    },
    {
      "cell_type": "markdown",
      "source": [
        "ndarray의 데이터 타입"
      ],
      "metadata": {
        "id": "1qQhFnHZOOdC"
      }
    },
    {
      "cell_type": "code",
      "source": [
        "list1=[1,2,3]\n",
        "print(type(list1))\n",
        "array1=np.array(list1)\n",
        "print(type(array1))\n",
        "print(array1, array1.dtype)"
      ],
      "metadata": {
        "colab": {
          "base_uri": "https://localhost:8080/"
        },
        "id": "v_4g1I6VOh-N",
        "outputId": "d891d846-8396-48cf-e560-4e2ed3355f07"
      },
      "execution_count": 4,
      "outputs": [
        {
          "output_type": "stream",
          "name": "stdout",
          "text": [
            "<class 'list'>\n",
            "<class 'numpy.ndarray'>\n",
            "[1 2 3] int64\n"
          ]
        }
      ]
    },
    {
      "cell_type": "code",
      "source": [
        "list2=[1,2,'test']\n",
        "array2=np.array(list2)\n",
        "print(array2, array2.dtype)\n",
        "\n",
        "list3=[1,2,3.0]\n",
        "array3=np.array(list3)\n",
        "print(array3, array3.dtype)"
      ],
      "metadata": {
        "colab": {
          "base_uri": "https://localhost:8080/"
        },
        "id": "0o5XWod6PMSw",
        "outputId": "701a5a1c-72ab-493f-d841-270522e92d46"
      },
      "execution_count": 5,
      "outputs": [
        {
          "output_type": "stream",
          "name": "stdout",
          "text": [
            "['1' '2' 'test'] <U21\n",
            "[1. 2. 3.] float64\n"
          ]
        }
      ]
    },
    {
      "cell_type": "code",
      "source": [
        "array_int=np.array([1,2,3])\n",
        "array_float=array_int.astype('float64')\n",
        "print(array_float, array_float.dtype)\n",
        "\n",
        "array_int1=array_float.astype('int32')\n",
        "print(array_int1, array_int1.dtype)\n",
        "\n",
        "array_float1=np.array([1.1,2.1,3.1])\n",
        "array_int2=array_float1.astype('int32')\n",
        "print(array_int2, array_int2.dtype)"
      ],
      "metadata": {
        "colab": {
          "base_uri": "https://localhost:8080/"
        },
        "id": "SyiRXLPqPrGQ",
        "outputId": "c198cee9-21e9-481a-a494-2ca056d8a61e"
      },
      "execution_count": 6,
      "outputs": [
        {
          "output_type": "stream",
          "name": "stdout",
          "text": [
            "[1. 2. 3.] float64\n",
            "[1 2 3] int32\n",
            "[1 2 3] int32\n"
          ]
        }
      ]
    },
    {
      "cell_type": "markdown",
      "source": [
        "ndarray를 편리하게 생성하기- arange, zeros, ones"
      ],
      "metadata": {
        "id": "eZyRUAurQC8G"
      }
    },
    {
      "cell_type": "code",
      "source": [
        "sequence_array=np.arange(10)\n",
        "print(sequence_array)\n",
        "print(sequence_array.dtype, sequence_array.shape)"
      ],
      "metadata": {
        "colab": {
          "base_uri": "https://localhost:8080/"
        },
        "id": "XwZWMkTpQd50",
        "outputId": "cd46f735-1a80-4d68-9eaa-04bac8d86e59"
      },
      "execution_count": 7,
      "outputs": [
        {
          "output_type": "stream",
          "name": "stdout",
          "text": [
            "[0 1 2 3 4 5 6 7 8 9]\n",
            "int64 (10,)\n"
          ]
        }
      ]
    },
    {
      "cell_type": "code",
      "source": [
        "zero_array=np.zeros((3,2),dtype='int32')\n",
        "print(zero_array)\n",
        "print(zero_array.dtype, zero_array.shape)\n",
        "\n",
        "one_array=np.ones((3,2))\n",
        "print(one_array)\n",
        "print(one_array.dtype, one_array.shape)"
      ],
      "metadata": {
        "colab": {
          "base_uri": "https://localhost:8080/"
        },
        "id": "69lY1K1qRDkM",
        "outputId": "b84be7d3-8c22-4ed9-c9b3-56cbeb90ed43"
      },
      "execution_count": 8,
      "outputs": [
        {
          "output_type": "stream",
          "name": "stdout",
          "text": [
            "[[0 0]\n",
            " [0 0]\n",
            " [0 0]]\n",
            "int32 (3, 2)\n",
            "[[1. 1.]\n",
            " [1. 1.]\n",
            " [1. 1.]]\n",
            "float64 (3, 2)\n"
          ]
        }
      ]
    },
    {
      "cell_type": "markdown",
      "source": [
        "ndarray의 차원과 크기를 변경하는 reshape()"
      ],
      "metadata": {
        "id": "jOsgXJfmRNfr"
      }
    },
    {
      "cell_type": "code",
      "source": [
        "array1=np.arange(10)\n",
        "print('array1:\\n', array1)\n",
        "\n",
        "array2=array1.reshape(2,5)\n",
        "print('array2:\\n', array2)\n",
        "\n",
        "array3=array1.reshape(5,2)\n",
        "print('array3\\n', array3)"
      ],
      "metadata": {
        "colab": {
          "base_uri": "https://localhost:8080/"
        },
        "id": "pBIOxn99Re19",
        "outputId": "f717cb7c-bf48-40e1-ae03-1cd2a8b979a0"
      },
      "execution_count": 9,
      "outputs": [
        {
          "output_type": "stream",
          "name": "stdout",
          "text": [
            "array1:\n",
            " [0 1 2 3 4 5 6 7 8 9]\n",
            "array2:\n",
            " [[0 1 2 3 4]\n",
            " [5 6 7 8 9]]\n",
            "array3\n",
            " [[0 1]\n",
            " [2 3]\n",
            " [4 5]\n",
            " [6 7]\n",
            " [8 9]]\n"
          ]
        }
      ]
    },
    {
      "cell_type": "code",
      "source": [
        "array1.reshape(4,3)"
      ],
      "metadata": {
        "colab": {
          "base_uri": "https://localhost:8080/",
          "height": 141
        },
        "id": "Sy-PjjOUR1kH",
        "outputId": "97f3482d-e00c-406d-ac59-442919c508bc"
      },
      "execution_count": 10,
      "outputs": [
        {
          "output_type": "error",
          "ename": "ValueError",
          "evalue": "cannot reshape array of size 10 into shape (4,3)",
          "traceback": [
            "\u001b[0;31m---------------------------------------------------------------------------\u001b[0m",
            "\u001b[0;31mValueError\u001b[0m                                Traceback (most recent call last)",
            "\u001b[0;32m<ipython-input-10-a40469ec5825>\u001b[0m in \u001b[0;36m<cell line: 0>\u001b[0;34m()\u001b[0m\n\u001b[0;32m----> 1\u001b[0;31m \u001b[0marray1\u001b[0m\u001b[0;34m.\u001b[0m\u001b[0mreshape\u001b[0m\u001b[0;34m(\u001b[0m\u001b[0;36m4\u001b[0m\u001b[0;34m,\u001b[0m\u001b[0;36m3\u001b[0m\u001b[0;34m)\u001b[0m\u001b[0;34m\u001b[0m\u001b[0;34m\u001b[0m\u001b[0m\n\u001b[0m",
            "\u001b[0;31mValueError\u001b[0m: cannot reshape array of size 10 into shape (4,3)"
          ]
        }
      ]
    },
    {
      "cell_type": "code",
      "source": [
        "array1=np.arange(10)\n",
        "print(array1)\n",
        "array2=array1.reshape(-1,5)\n",
        "print('array2 shape:', array2.shape)\n",
        "array3=array1.reshape(5,-1)\n",
        "print('array3 shape:', array3.shape)"
      ],
      "metadata": {
        "colab": {
          "base_uri": "https://localhost:8080/"
        },
        "id": "Y480HzNgSBGe",
        "outputId": "42358126-0ed5-4df1-f21e-04cd1f847e5c"
      },
      "execution_count": 11,
      "outputs": [
        {
          "output_type": "stream",
          "name": "stdout",
          "text": [
            "[0 1 2 3 4 5 6 7 8 9]\n",
            "array2 shape: (2, 5)\n",
            "array3 shape: (5, 2)\n"
          ]
        }
      ]
    },
    {
      "cell_type": "code",
      "source": [
        "array1=np.arange(10)\n",
        "array4=array1.reshape(-1,4)"
      ],
      "metadata": {
        "colab": {
          "base_uri": "https://localhost:8080/",
          "height": 158
        },
        "id": "E0R9PBC3SgoM",
        "outputId": "c1a2b93c-e768-416e-b334-518d95cb31b3"
      },
      "execution_count": 12,
      "outputs": [
        {
          "output_type": "error",
          "ename": "ValueError",
          "evalue": "cannot reshape array of size 10 into shape (4)",
          "traceback": [
            "\u001b[0;31m---------------------------------------------------------------------------\u001b[0m",
            "\u001b[0;31mValueError\u001b[0m                                Traceback (most recent call last)",
            "\u001b[0;32m<ipython-input-12-7f01f0f59baa>\u001b[0m in \u001b[0;36m<cell line: 0>\u001b[0;34m()\u001b[0m\n\u001b[1;32m      1\u001b[0m \u001b[0marray1\u001b[0m\u001b[0;34m=\u001b[0m\u001b[0mnp\u001b[0m\u001b[0;34m.\u001b[0m\u001b[0marange\u001b[0m\u001b[0;34m(\u001b[0m\u001b[0;36m10\u001b[0m\u001b[0;34m)\u001b[0m\u001b[0;34m\u001b[0m\u001b[0;34m\u001b[0m\u001b[0m\n\u001b[0;32m----> 2\u001b[0;31m \u001b[0marray4\u001b[0m\u001b[0;34m=\u001b[0m\u001b[0marray1\u001b[0m\u001b[0;34m.\u001b[0m\u001b[0mreshape\u001b[0m\u001b[0;34m(\u001b[0m\u001b[0;34m-\u001b[0m\u001b[0;36m1\u001b[0m\u001b[0;34m,\u001b[0m\u001b[0;36m4\u001b[0m\u001b[0;34m)\u001b[0m\u001b[0;34m\u001b[0m\u001b[0;34m\u001b[0m\u001b[0m\n\u001b[0m",
            "\u001b[0;31mValueError\u001b[0m: cannot reshape array of size 10 into shape (4)"
          ]
        }
      ]
    },
    {
      "cell_type": "code",
      "source": [
        "array1=np.arange(8)\n",
        "array3d=array1.reshape((2,2,2))\n",
        "print('array3d:\\n', array3d.tolist())\n",
        "\n",
        "#3차원 ndarray를 2차원 ndarray로 변환\n",
        "array5=array3d.reshape(-1,1)\n",
        "print('array5:\\n', array5.tolist())\n",
        "print('array5 shape:', array5.shape)\n",
        "\n",
        "#1차원 ndarray를 2차원 ndarray로 변환\n",
        "array6=array1.reshape(-1,1)\n",
        "print('array6:\\n', array6.tolist())\n",
        "print('array6 shape:', array6.shape)"
      ],
      "metadata": {
        "colab": {
          "base_uri": "https://localhost:8080/"
        },
        "id": "jRMy5ZEKSvDf",
        "outputId": "d7406cd6-d83a-487f-e9cd-627bd9e5ee34"
      },
      "execution_count": 13,
      "outputs": [
        {
          "output_type": "stream",
          "name": "stdout",
          "text": [
            "array3d:\n",
            " [[[0, 1], [2, 3]], [[4, 5], [6, 7]]]\n",
            "array5:\n",
            " [[0], [1], [2], [3], [4], [5], [6], [7]]\n",
            "array5 shape: (8, 1)\n",
            "array6:\n",
            " [[0], [1], [2], [3], [4], [5], [6], [7]]\n",
            "array6 shape: (8, 1)\n"
          ]
        }
      ]
    },
    {
      "cell_type": "markdown",
      "source": [
        "넘파이의 ndarray의 데이터 세트 선택하기 - 인덱싱"
      ],
      "metadata": {
        "id": "fBh5HRHsTM0x"
      }
    },
    {
      "cell_type": "code",
      "source": [
        "#1부터 9까지의 1차원 ndarray 생성\n",
        "array1=np.arange(start=1, stop=10)\n",
        "print('array1:', array1)\n",
        "\n",
        "#index는 0부터 시작하므로 array1[2]는 3번째 index 위치의 데이터값을 의미\n",
        "value=array1[2]\n",
        "print('value:', value)\n",
        "print(type(value))"
      ],
      "metadata": {
        "colab": {
          "base_uri": "https://localhost:8080/"
        },
        "id": "3C2tKrKBT8WH",
        "outputId": "969cef44-b5f1-4942-b414-387a2e98f989"
      },
      "execution_count": 14,
      "outputs": [
        {
          "output_type": "stream",
          "name": "stdout",
          "text": [
            "array1: [1 2 3 4 5 6 7 8 9]\n",
            "value: 3\n",
            "<class 'numpy.int64'>\n"
          ]
        }
      ]
    },
    {
      "cell_type": "code",
      "source": [
        "print('맨 뒤의 값:', array1[-1], '맨 뒤에서 두 번째 값:', array1[-2])"
      ],
      "metadata": {
        "colab": {
          "base_uri": "https://localhost:8080/"
        },
        "id": "io3rq6nTUo4U",
        "outputId": "7960ac38-b1ea-4691-eaaa-a3c00b48eeee"
      },
      "execution_count": 15,
      "outputs": [
        {
          "output_type": "stream",
          "name": "stdout",
          "text": [
            "맨 뒤의 값: 9 맨 뒤에서 두 번째 값: 8\n"
          ]
        }
      ]
    },
    {
      "cell_type": "code",
      "source": [
        "array1[0]=9\n",
        "array1[8]=0\n",
        "print('array1:', array1)"
      ],
      "metadata": {
        "colab": {
          "base_uri": "https://localhost:8080/"
        },
        "id": "MaKhJJf7VAq-",
        "outputId": "c2dc29a0-d316-4f95-8008-1f41523600ae"
      },
      "execution_count": 16,
      "outputs": [
        {
          "output_type": "stream",
          "name": "stdout",
          "text": [
            "array1: [9 2 3 4 5 6 7 8 0]\n"
          ]
        }
      ]
    },
    {
      "cell_type": "code",
      "source": [
        "array1d=np.arange(start=1,stop=10)\n",
        "array2d=array1d.reshape(3,3)\n",
        "print(array2d)\n",
        "\n",
        "print('(row=0, col=0) index 가리키는 값:', array2d[0,0])\n",
        "print('(row=0, col=1) index 가리키는 값:', array2d[0,1])\n",
        "print('(row=1, col=0) index 가리키는 값:', array2d[1,0])\n",
        "print('(row=2, col=2) index 가리키는 값:', array2d[2,2])"
      ],
      "metadata": {
        "colab": {
          "base_uri": "https://localhost:8080/"
        },
        "id": "IMtKfAmrVOhS",
        "outputId": "a860cc1f-a481-479a-dd32-b66d3a469e8e"
      },
      "execution_count": 17,
      "outputs": [
        {
          "output_type": "stream",
          "name": "stdout",
          "text": [
            "[[1 2 3]\n",
            " [4 5 6]\n",
            " [7 8 9]]\n",
            "(row=0, col=0) index 가리키는 값: 1\n",
            "(row=0, col=1) index 가리키는 값: 2\n",
            "(row=1, col=0) index 가리키는 값: 4\n",
            "(row=2, col=2) index 가리키는 값: 9\n"
          ]
        }
      ]
    },
    {
      "cell_type": "markdown",
      "source": [
        "슬라이싱"
      ],
      "metadata": {
        "id": "-_EM2pa9Vt3P"
      }
    },
    {
      "cell_type": "code",
      "source": [
        "array1=np.arange(start=1, stop=10)\n",
        "array3=array1[0:3]\n",
        "print(array3)\n",
        "print(type(array3))"
      ],
      "metadata": {
        "colab": {
          "base_uri": "https://localhost:8080/"
        },
        "id": "2KFNi5vJWDhW",
        "outputId": "8cb7dac3-f3e0-49af-a9ba-3079386dab6f"
      },
      "execution_count": 18,
      "outputs": [
        {
          "output_type": "stream",
          "name": "stdout",
          "text": [
            "[1 2 3]\n",
            "<class 'numpy.ndarray'>\n"
          ]
        }
      ]
    },
    {
      "cell_type": "code",
      "source": [
        "array1=np.arange(start=1,stop=10)\n",
        "array4=array1[:3]\n",
        "print(array4)\n",
        "\n",
        "array5=array1[3:]\n",
        "print(array5)\n",
        "\n",
        "array6=array1[:]\n",
        "print(array6)"
      ],
      "metadata": {
        "colab": {
          "base_uri": "https://localhost:8080/"
        },
        "id": "LSv5Ws9sWXjJ",
        "outputId": "06a118d5-665a-4f6e-8f1a-8f450a0c9b88"
      },
      "execution_count": 19,
      "outputs": [
        {
          "output_type": "stream",
          "name": "stdout",
          "text": [
            "[1 2 3]\n",
            "[4 5 6 7 8 9]\n",
            "[1 2 3 4 5 6 7 8 9]\n"
          ]
        }
      ]
    },
    {
      "cell_type": "code",
      "source": [
        "array1d=np.arange(start=1, stop=10)\n",
        "array2d=array1d.reshape(3,3)\n",
        "print('array2d:\\n', array2d)\n",
        "\n",
        "print('array2d[0:2, 0:2] \\n', array2d[0:2, 0:2])\n",
        "print('array2d[1:3, 0:3] \\n', array2d[1:3, 0:3])\n",
        "print('array2d[1:3, :] \\n', array2d[1:3, :])\n",
        "print('array2d[:, :] \\n', array2d[:, :])\n",
        "print('array2d[:2, 1:] \\n', array2d[:2, 1:])\n",
        "print('array2d[:2, 0] \\n', array2d[:2, 0])"
      ],
      "metadata": {
        "colab": {
          "base_uri": "https://localhost:8080/"
        },
        "id": "7lm2piLeWgLi",
        "outputId": "6400b00d-e181-4ca4-dd4d-b0de754b4ffe"
      },
      "execution_count": 20,
      "outputs": [
        {
          "output_type": "stream",
          "name": "stdout",
          "text": [
            "array2d:\n",
            " [[1 2 3]\n",
            " [4 5 6]\n",
            " [7 8 9]]\n",
            "array2d[0:2, 0:2] \n",
            " [[1 2]\n",
            " [4 5]]\n",
            "array2d[1:3, 0:3] \n",
            " [[4 5 6]\n",
            " [7 8 9]]\n",
            "array2d[1:3, :] \n",
            " [[4 5 6]\n",
            " [7 8 9]]\n",
            "array2d[:, :] \n",
            " [[1 2 3]\n",
            " [4 5 6]\n",
            " [7 8 9]]\n",
            "array2d[:2, 1:] \n",
            " [[2 3]\n",
            " [5 6]]\n",
            "array2d[:2, 0] \n",
            " [1 4]\n"
          ]
        }
      ]
    },
    {
      "cell_type": "code",
      "source": [
        "print(array2d[0])\n",
        "print(array2d[1])\n",
        "print('array2d[0] shape:', array2d[0].shape, 'array2d[1] shape:', array2d[1].shape)"
      ],
      "metadata": {
        "colab": {
          "base_uri": "https://localhost:8080/"
        },
        "id": "Fh4XBkwYXBY9",
        "outputId": "c6177e6a-8aa0-429c-8fb3-4e9b013d5469"
      },
      "execution_count": 21,
      "outputs": [
        {
          "output_type": "stream",
          "name": "stdout",
          "text": [
            "[1 2 3]\n",
            "[4 5 6]\n",
            "array2d[0] shape: (3,) array2d[1] shape: (3,)\n"
          ]
        }
      ]
    },
    {
      "cell_type": "markdown",
      "source": [
        "팬시 인덱싱"
      ],
      "metadata": {
        "id": "iEoCjF1BXNb6"
      }
    },
    {
      "cell_type": "code",
      "source": [
        "array1d=np.arange(start=1,stop=10)\n",
        "array2d=array1d.reshape(3,3)\n",
        "\n",
        "array3=array2d[[0,1],2]\n",
        "print('array2d[[0,1],2]=>', array3.tolist())\n",
        "\n",
        "array4=array2d[[0,1],0:2]\n",
        "print('array2d[[0,1],0:2]=>', array4.tolist())\n",
        "\n",
        "array5=array2d[[0,1]]\n",
        "print('array2d[[0,1]]=>', array5.tolist())"
      ],
      "metadata": {
        "colab": {
          "base_uri": "https://localhost:8080/"
        },
        "id": "Da5llMBNXcC_",
        "outputId": "8f862887-81cf-40db-ff9c-c6ae228262b7"
      },
      "execution_count": 22,
      "outputs": [
        {
          "output_type": "stream",
          "name": "stdout",
          "text": [
            "array2d[[0,1],2]=> [3, 6]\n",
            "array2d[[0,1],0:2]=> [[1, 2], [4, 5]]\n",
            "array2d[[0,1]]=> [[1, 2, 3], [4, 5, 6]]\n"
          ]
        }
      ]
    },
    {
      "cell_type": "markdown",
      "source": [
        "불린 인덱싱"
      ],
      "metadata": {
        "id": "DhzKumeOYJcg"
      }
    },
    {
      "cell_type": "code",
      "source": [
        "array1d=np.arange(start=1, stop=10)\n",
        "\n",
        "#[] 안에 array1d>5 Boolean indexing을 적용\n",
        "array3=array1d[array1d>5]\n",
        "print('array1d>5 불린 인덱싱 결과 값:', array3)"
      ],
      "metadata": {
        "colab": {
          "base_uri": "https://localhost:8080/"
        },
        "id": "p96BlpeqYKdv",
        "outputId": "9c2730df-7e61-40a5-c77b-6fb73c5ea84b"
      },
      "execution_count": 25,
      "outputs": [
        {
          "output_type": "stream",
          "name": "stdout",
          "text": [
            "array1d>5 불린 인덱싱 결과 값: [6 7 8 9]\n"
          ]
        }
      ]
    },
    {
      "cell_type": "code",
      "source": [
        "array1d>5"
      ],
      "metadata": {
        "colab": {
          "base_uri": "https://localhost:8080/"
        },
        "id": "D5eEmHhDYkL6",
        "outputId": "217c9392-fad6-4645-e6e2-b8df13633a3b"
      },
      "execution_count": 26,
      "outputs": [
        {
          "output_type": "execute_result",
          "data": {
            "text/plain": [
              "array([False, False, False, False, False,  True,  True,  True,  True])"
            ]
          },
          "metadata": {},
          "execution_count": 26
        }
      ]
    },
    {
      "cell_type": "code",
      "source": [
        "boolean_indexes=np.array([False, False, False, False, False, True, True, True, True])\n",
        "array3=array1d[boolean_indexes]\n",
        "print('불린 인덱스로 필터링 결과:', array3)"
      ],
      "metadata": {
        "colab": {
          "base_uri": "https://localhost:8080/"
        },
        "id": "h6xPPEGBY5Eh",
        "outputId": "d8aaadf7-7ee5-4908-b846-64d1b9c59a6e"
      },
      "execution_count": 28,
      "outputs": [
        {
          "output_type": "stream",
          "name": "stdout",
          "text": [
            "불린 인덱스로 필터링 결과: [6 7 8 9]\n"
          ]
        }
      ]
    },
    {
      "cell_type": "code",
      "source": [
        "indexes=np.array([5,6,7,8])\n",
        "array4=array1d[indexes]\n",
        "print('일반 인덱스로 필터링 결과:', array4)"
      ],
      "metadata": {
        "colab": {
          "base_uri": "https://localhost:8080/"
        },
        "id": "JZaM-ienZN4_",
        "outputId": "ee4fcbb9-658a-478a-cf31-ccf51fb81137"
      },
      "execution_count": 29,
      "outputs": [
        {
          "output_type": "stream",
          "name": "stdout",
          "text": [
            "일반 인덱스로 필터링 결과: [6 7 8 9]\n"
          ]
        }
      ]
    },
    {
      "cell_type": "markdown",
      "source": [
        "행렬 정렬"
      ],
      "metadata": {
        "id": "xMu9cfgDcR1I"
      }
    },
    {
      "cell_type": "code",
      "source": [
        "org_array=np.array([3,1,9,5])\n",
        "print('원본 행렬:', org_array)\n",
        "#np.sort()로 정렬\n",
        "sort_array1=np.sort(org_array)\n",
        "print('np.sort() 호출 후 반환된 정렬 행렬:', sort_array1)\n",
        "print('np.sort() 호출 후 원본 행렬:', org_array)\n",
        "#ndarray.sort()로 정렬\n",
        "sort_array2=org_array.sort()\n",
        "print('org_array.sort() 호출 후 반환된 정렬 행렬:', sort_array2)\n",
        "print('org_array.sort() 호출 후 원본 행렬:', org_array)"
      ],
      "metadata": {
        "colab": {
          "base_uri": "https://localhost:8080/"
        },
        "id": "FOmtMZwfafbe",
        "outputId": "220fb453-9b60-40dc-8bdf-f3634797e82e"
      },
      "execution_count": 30,
      "outputs": [
        {
          "output_type": "stream",
          "name": "stdout",
          "text": [
            "원본 행렬: [3 1 9 5]\n",
            "np.sort() 호출 후 반환된 정렬 행렬: [1 3 5 9]\n",
            "np.sort() 호출 후 원본 행렬: [3 1 9 5]\n",
            "org_array.sort() 호출 후 반환된 정렬 행렬: None\n",
            "org_array.sort() 호출 후 원본 행렬: [1 3 5 9]\n"
          ]
        }
      ]
    },
    {
      "cell_type": "code",
      "source": [
        "sort_array1_desc=np.sort(org_array)[::-1]\n",
        "print('내림차순으로 정렬:', sort_array1_desc)"
      ],
      "metadata": {
        "colab": {
          "base_uri": "https://localhost:8080/"
        },
        "id": "kvXtEWXYcHJt",
        "outputId": "4ab788a3-2f43-45cf-d2c9-404b6a8049f7"
      },
      "execution_count": 31,
      "outputs": [
        {
          "output_type": "stream",
          "name": "stdout",
          "text": [
            "내림차순으로 정렬: [9 5 3 1]\n"
          ]
        }
      ]
    },
    {
      "cell_type": "code",
      "source": [
        "array2d=np.array([[8,12],\n",
        "                [7,1]])\n",
        "\n",
        "sort_array2d_axis0=np.sort(array2d, axis=0)\n",
        "print('로우 방향으로 정렬:\\n', sort_array2d_axis0)\n",
        "\n",
        "sort_array2d_axis1=np.sort(array2d, axis=1)\n",
        "print('칼럼 방향으로 정렬:\\n', sort_array2d_axis1)"
      ],
      "metadata": {
        "colab": {
          "base_uri": "https://localhost:8080/"
        },
        "id": "C3-7xsf9cT81",
        "outputId": "6dd4b8c4-affd-466d-aed3-cd64f61d7eda"
      },
      "execution_count": 32,
      "outputs": [
        {
          "output_type": "stream",
          "name": "stdout",
          "text": [
            "로우 방향으로 정렬:\n",
            " [[ 7  1]\n",
            " [ 8 12]]\n",
            "칼럼 방향으로 정렬:\n",
            " [[ 8 12]\n",
            " [ 1  7]]\n"
          ]
        }
      ]
    },
    {
      "cell_type": "code",
      "source": [
        "org_array=np.array([3,1,9,5])\n",
        "sort_indices=np.argsort(org_array)\n",
        "print(type(sort_indices))\n",
        "print('행렬 정렬 시 원본 행렬의 인덱스:', sort_indices)"
      ],
      "metadata": {
        "colab": {
          "base_uri": "https://localhost:8080/"
        },
        "id": "BIiVG9-DcyjD",
        "outputId": "45b10d66-4295-411b-922e-e24d8cdb1744"
      },
      "execution_count": 33,
      "outputs": [
        {
          "output_type": "stream",
          "name": "stdout",
          "text": [
            "<class 'numpy.ndarray'>\n",
            "행렬 정렬 시 원본 행렬의 인덱스: [1 0 3 2]\n"
          ]
        }
      ]
    },
    {
      "cell_type": "code",
      "source": [
        "org_array=np.array([3,1,9,5])\n",
        "sort_indices_desc=np.argsort(org_array)[::-1]\n",
        "print('행렬 내림차순 정렬 시 원본 행렬의 인덱스:', sort_indices_desc)"
      ],
      "metadata": {
        "colab": {
          "base_uri": "https://localhost:8080/"
        },
        "id": "MdncJdLWdGol",
        "outputId": "49c76e61-30ef-4f61-b56f-92fca1b86ebf"
      },
      "execution_count": 34,
      "outputs": [
        {
          "output_type": "stream",
          "name": "stdout",
          "text": [
            "행렬 내림차순 정렬 시 원본 행렬의 인덱스: [2 3 0 1]\n"
          ]
        }
      ]
    },
    {
      "cell_type": "code",
      "source": [
        "import numpy as np\n",
        "\n",
        "name_array=np.array(['John', 'Mike', 'Sarah', 'Kate', 'Samuel'])\n",
        "score_array=np.array([78,95,84,98,88])\n",
        "\n",
        "sort_indices_asc=np.argsort(score_array)\n",
        "print('성적 오름차순 정렬 시 score_array의 인덱스:', sort_indices_asc)\n",
        "print('성적 오름차순으로 name_array의 이름 출력:', name_array[sort_indices_asc])"
      ],
      "metadata": {
        "colab": {
          "base_uri": "https://localhost:8080/"
        },
        "id": "xyRfg_yQdX7U",
        "outputId": "5ae9c98c-7c77-414c-e8f5-b7d6fdfac82a"
      },
      "execution_count": 35,
      "outputs": [
        {
          "output_type": "stream",
          "name": "stdout",
          "text": [
            "성적 오름차순 정렬 시 score_array의 인덱스: [0 2 4 1 3]\n",
            "성적 오름차순으로 name_array의 이름 출력: ['John' 'Sarah' 'Samuel' 'Mike' 'Kate']\n"
          ]
        }
      ]
    },
    {
      "cell_type": "markdown",
      "source": [
        "선형대수 연산"
      ],
      "metadata": {
        "id": "XoGwlpXEecWJ"
      }
    },
    {
      "cell_type": "code",
      "source": [
        "A=np.array([[1,2,3],\n",
        "            [4,5,6]])\n",
        "B=np.array([[7,8],\n",
        "            [9,10],\n",
        "            [11,12]])\n",
        "\n",
        "dot_product=np.dot(A,B)\n",
        "print('행렬 내적 결과:\\n', dot_product)"
      ],
      "metadata": {
        "colab": {
          "base_uri": "https://localhost:8080/"
        },
        "id": "-TpJcXgLd6BH",
        "outputId": "051f0ec6-9f4e-4bf6-d891-250b398f04cc"
      },
      "execution_count": 36,
      "outputs": [
        {
          "output_type": "stream",
          "name": "stdout",
          "text": [
            "행렬 내적 결과:\n",
            " [[ 58  64]\n",
            " [139 154]]\n"
          ]
        }
      ]
    },
    {
      "cell_type": "code",
      "source": [
        "A=np.array([[1,2],\n",
        "            [3,4]])\n",
        "transpose_mat=np.transpose(A)\n",
        "print('A의 전치 행렬:\\n', transpose_mat)"
      ],
      "metadata": {
        "colab": {
          "base_uri": "https://localhost:8080/"
        },
        "id": "LyfImciferjY",
        "outputId": "f85540cf-4900-40f7-d80f-53e931e74da7"
      },
      "execution_count": 37,
      "outputs": [
        {
          "output_type": "stream",
          "name": "stdout",
          "text": [
            "A의 전치 행렬:\n",
            " [[1 3]\n",
            " [2 4]]\n"
          ]
        }
      ]
    }
  ]
}