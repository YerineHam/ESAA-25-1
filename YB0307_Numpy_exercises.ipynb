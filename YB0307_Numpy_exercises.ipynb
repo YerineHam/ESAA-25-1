{
  "nbformat": 4,
  "nbformat_minor": 5,
  "metadata": {
    "colab": {
      "provenance": []
    },
    "language_info": {
      "name": "python"
    },
    "kernelspec": {
      "name": "python3",
      "display_name": "Python 3"
    }
  },
  "cells": [
    {
      "cell_type": "markdown",
      "metadata": {
        "id": "78250c14"
      },
      "source": [
        "#### 21. Multiply a 5x3 matrix by a 3x2 matrix (real matrix product) (★☆☆)"
      ],
      "id": "78250c14"
    },
    {
      "cell_type": "code",
      "metadata": {
        "id": "9fe729cb",
        "colab": {
          "base_uri": "https://localhost:8080/"
        },
        "outputId": "2bb635c3-55af-44c4-d70a-25e3ffceffc4"
      },
      "source": [
        "import numpy as np\n",
        "A=np.random.random((5,3))\n",
        "B=np.random.random((3,2))\n",
        "print(np.dot(A,B))"
      ],
      "id": "9fe729cb",
      "execution_count": 10,
      "outputs": [
        {
          "output_type": "stream",
          "name": "stdout",
          "text": [
            "[[0.16538869 0.38582559]\n",
            " [0.37612016 0.77627125]\n",
            " [0.44361821 0.89043452]\n",
            " [0.52213931 1.04740964]\n",
            " [0.5455338  1.06567232]]\n"
          ]
        }
      ]
    },
    {
      "cell_type": "markdown",
      "metadata": {
        "id": "51898680"
      },
      "source": [
        "#### 22. Given a 1D array, negate all elements which are between 3 and 8, in place. (★☆☆)"
      ],
      "id": "51898680"
    },
    {
      "cell_type": "code",
      "source": [
        "array=np.arange(10)\n",
        "array[(array>3)&(array<8)]*=-1\n",
        "print(array)"
      ],
      "metadata": {
        "colab": {
          "base_uri": "https://localhost:8080/"
        },
        "id": "wc9KlLR1paf1",
        "outputId": "94a65f98-7eb9-4119-d6bb-241132e66b39"
      },
      "id": "wc9KlLR1paf1",
      "execution_count": 12,
      "outputs": [
        {
          "output_type": "stream",
          "name": "stdout",
          "text": [
            "[ 0  1  2  3 -4 -5 -6 -7  8  9]\n"
          ]
        }
      ]
    },
    {
      "cell_type": "markdown",
      "metadata": {
        "id": "89e78048"
      },
      "source": [
        "#### 23. What is the output of the following script? (★☆☆)\n",
        "```python\n",
        "# Author: Jake VanderPlas\n",
        "\n",
        "print(sum(range(5),-1))\n",
        "from numpy import *\n",
        "print(sum(range(5),-1))\n",
        "```"
      ],
      "id": "89e78048"
    },
    {
      "cell_type": "markdown",
      "source": [
        "9 (-1+0+1+2+3+4의 합)\n",
        "\n",
        "10 (0부터 4까지의 합)"
      ],
      "metadata": {
        "id": "0DkrFvO0lvsh"
      },
      "id": "0DkrFvO0lvsh"
    },
    {
      "cell_type": "markdown",
      "metadata": {
        "id": "ebd10810"
      },
      "source": [
        "#### 24. Consider an integer vector Z, which of these expressions are legal? (★☆☆)\n",
        "```python\n",
        "Z**Z\n",
        "2 << Z >> 2\n",
        "Z <- Z\n",
        "1j*Z\n",
        "Z/1/1\n",
        "Z<Z>Z\n",
        "```"
      ],
      "id": "ebd10810"
    },
    {
      "cell_type": "code",
      "source": [
        "Z=np.arange(9).reshape(3,3)\n",
        "print(Z**Z)\n",
        "print(2 << Z >> 2)\n",
        "print(Z <- Z)\n",
        "print(1j*Z)\n",
        "print(Z/1/1)\n",
        "print(Z<Z>Z)"
      ],
      "metadata": {
        "colab": {
          "base_uri": "https://localhost:8080/",
          "height": 436
        },
        "id": "qBdK8a0GPVMC",
        "outputId": "ad6587f9-d604-4e82-d87f-01503bc0dcec"
      },
      "id": "qBdK8a0GPVMC",
      "execution_count": 17,
      "outputs": [
        {
          "output_type": "stream",
          "name": "stdout",
          "text": [
            "[[       1        1        4]\n",
            " [      27      256     3125]\n",
            " [   46656   823543 16777216]]\n",
            "[[  0   1   2]\n",
            " [  4   8  16]\n",
            " [ 32  64 128]]\n",
            "[[False False False]\n",
            " [False False False]\n",
            " [False False False]]\n",
            "[[0.+0.j 0.+1.j 0.+2.j]\n",
            " [0.+3.j 0.+4.j 0.+5.j]\n",
            " [0.+6.j 0.+7.j 0.+8.j]]\n",
            "[[0. 1. 2.]\n",
            " [3. 4. 5.]\n",
            " [6. 7. 8.]]\n"
          ]
        },
        {
          "output_type": "error",
          "ename": "ValueError",
          "evalue": "The truth value of an array with more than one element is ambiguous. Use a.any() or a.all()",
          "traceback": [
            "\u001b[0;31m---------------------------------------------------------------------------\u001b[0m",
            "\u001b[0;31mValueError\u001b[0m                                Traceback (most recent call last)",
            "\u001b[0;32m<ipython-input-17-5b6ac7c1274d>\u001b[0m in \u001b[0;36m<cell line: 0>\u001b[0;34m()\u001b[0m\n\u001b[1;32m      6\u001b[0m \u001b[0mprint\u001b[0m\u001b[0;34m(\u001b[0m\u001b[0;36m1j\u001b[0m\u001b[0;34m*\u001b[0m\u001b[0mZ\u001b[0m\u001b[0;34m)\u001b[0m\u001b[0;34m\u001b[0m\u001b[0;34m\u001b[0m\u001b[0m\n\u001b[1;32m      7\u001b[0m \u001b[0mprint\u001b[0m\u001b[0;34m(\u001b[0m\u001b[0mZ\u001b[0m\u001b[0;34m/\u001b[0m\u001b[0;36m1\u001b[0m\u001b[0;34m/\u001b[0m\u001b[0;36m1\u001b[0m\u001b[0;34m)\u001b[0m\u001b[0;34m\u001b[0m\u001b[0;34m\u001b[0m\u001b[0m\n\u001b[0;32m----> 8\u001b[0;31m \u001b[0mprint\u001b[0m\u001b[0;34m(\u001b[0m\u001b[0mZ\u001b[0m\u001b[0;34m<\u001b[0m\u001b[0mZ\u001b[0m\u001b[0;34m>\u001b[0m\u001b[0mZ\u001b[0m\u001b[0;34m)\u001b[0m\u001b[0;34m\u001b[0m\u001b[0;34m\u001b[0m\u001b[0m\n\u001b[0m",
            "\u001b[0;31mValueError\u001b[0m: The truth value of an array with more than one element is ambiguous. Use a.any() or a.all()"
          ]
        }
      ]
    },
    {
      "cell_type": "markdown",
      "source": [
        "마지막으로 제외하고 legal하다."
      ],
      "metadata": {
        "id": "tkKKOmgWmQ9U"
      },
      "id": "tkKKOmgWmQ9U"
    },
    {
      "cell_type": "markdown",
      "metadata": {
        "id": "c0e940f8"
      },
      "source": [
        "#### 25. What are the result of the following expressions? (★☆☆)\n",
        "```python\n",
        "np.array(0) / np.array(0)\n",
        "np.array(0) // np.array(0)\n",
        "np.array([np.nan]).astype(int).astype(float)\n",
        "```"
      ],
      "id": "c0e940f8"
    },
    {
      "cell_type": "code",
      "metadata": {
        "id": "820dc7a5",
        "colab": {
          "base_uri": "https://localhost:8080/"
        },
        "outputId": "854aa788-a41d-4f94-abca-d596e0072c1c"
      },
      "source": [
        "print(np.array(0) / np.array(0)) #결과: nan\n",
        "print(np.array(0) // np.array(0)) #결과: 0에 가까운 수\n",
        "print(np.array([np.nan]).astype(int).astype(float))"
      ],
      "id": "820dc7a5",
      "execution_count": 18,
      "outputs": [
        {
          "output_type": "stream",
          "name": "stdout",
          "text": [
            "nan\n",
            "0\n",
            "[-9.22337204e+18]\n"
          ]
        },
        {
          "output_type": "stream",
          "name": "stderr",
          "text": [
            "<ipython-input-18-c43b556c15ef>:1: RuntimeWarning: invalid value encountered in divide\n",
            "  print(np.array(0) / np.array(0)) #결과: nan\n",
            "<ipython-input-18-c43b556c15ef>:2: RuntimeWarning: divide by zero encountered in floor_divide\n",
            "  print(np.array(0) // np.array(0)) #결과: 0에 가까운 수\n",
            "<ipython-input-18-c43b556c15ef>:3: RuntimeWarning: invalid value encountered in cast\n",
            "  print(np.array([np.nan]).astype(int).astype(float))\n"
          ]
        }
      ]
    },
    {
      "cell_type": "markdown",
      "metadata": {
        "id": "f1ae2c2d"
      },
      "source": [
        "#### 26. How to find common values between two arrays? (★☆☆)\n",
        "```python\n",
        "Z1 = np.random.randint(0,10,10)\n",
        "Z2 = np.random.randint(0,10,10)\n",
        "```\n",
        "Hint : use `numpy.random.randint(start, end, size)`"
      ],
      "id": "f1ae2c2d"
    },
    {
      "cell_type": "code",
      "source": [
        "Z1=np.random.randint(0,10,10)\n",
        "Z2=np.random.randint(0,10,10)\n",
        "print(np.intersect1d(Z1,Z2))"
      ],
      "metadata": {
        "colab": {
          "base_uri": "https://localhost:8080/"
        },
        "id": "cyBTKMnhtMAm",
        "outputId": "71b5aa97-8192-4b72-fcf9-1674a50385d2"
      },
      "id": "cyBTKMnhtMAm",
      "execution_count": 19,
      "outputs": [
        {
          "output_type": "stream",
          "name": "stdout",
          "text": [
            "[1 3 6 8 9]\n"
          ]
        }
      ]
    },
    {
      "cell_type": "markdown",
      "metadata": {
        "id": "37bc0973"
      },
      "source": [
        "#### 27. Is the following expressions true? (★☆☆)\n",
        "```python\n",
        "np.sqrt(-1) == np.emath.sqrt(-1)\n",
        "```"
      ],
      "id": "37bc0973"
    },
    {
      "cell_type": "code",
      "metadata": {
        "id": "c70cbabe",
        "colab": {
          "base_uri": "https://localhost:8080/"
        },
        "outputId": "773b5b7f-8dcb-4dc5-a8b6-fb909cc4adcf"
      },
      "source": [
        "np.sqrt(-1) == np.emath.sqrt(-1)"
      ],
      "id": "c70cbabe",
      "execution_count": 20,
      "outputs": [
        {
          "output_type": "stream",
          "name": "stderr",
          "text": [
            "<ipython-input-20-16339fbc685e>:1: RuntimeWarning: invalid value encountered in sqrt\n",
            "  np.sqrt(-1) == np.emath.sqrt(-1)\n"
          ]
        },
        {
          "output_type": "execute_result",
          "data": {
            "text/plain": [
              "False"
            ]
          },
          "metadata": {},
          "execution_count": 20
        }
      ]
    },
    {
      "cell_type": "markdown",
      "source": [
        "False"
      ],
      "metadata": {
        "id": "O44-PffrP8Qo"
      },
      "id": "O44-PffrP8Qo"
    },
    {
      "cell_type": "markdown",
      "metadata": {
        "id": "42f8b2f9"
      },
      "source": [
        "#### 28. How to get all the dates corresponding to the month of July 2016? (★★☆)\n",
        "Hint : modify the code below\n",
        "```python\n",
        "Z = np.arange('start', 'end', dtype='datetime64[D]')\n",
        "```"
      ],
      "id": "42f8b2f9"
    },
    {
      "cell_type": "code",
      "source": [
        "Z = np.arange('2016-07', '2016-08', dtype='datetime64[D]')\n",
        "print(Z)"
      ],
      "metadata": {
        "id": "3kkl01x3x0NF",
        "colab": {
          "base_uri": "https://localhost:8080/"
        },
        "outputId": "8b7ec193-e59e-4d63-ae1f-21c7a9d01976"
      },
      "id": "3kkl01x3x0NF",
      "execution_count": 21,
      "outputs": [
        {
          "output_type": "stream",
          "name": "stdout",
          "text": [
            "['2016-07-01' '2016-07-02' '2016-07-03' '2016-07-04' '2016-07-05'\n",
            " '2016-07-06' '2016-07-07' '2016-07-08' '2016-07-09' '2016-07-10'\n",
            " '2016-07-11' '2016-07-12' '2016-07-13' '2016-07-14' '2016-07-15'\n",
            " '2016-07-16' '2016-07-17' '2016-07-18' '2016-07-19' '2016-07-20'\n",
            " '2016-07-21' '2016-07-22' '2016-07-23' '2016-07-24' '2016-07-25'\n",
            " '2016-07-26' '2016-07-27' '2016-07-28' '2016-07-29' '2016-07-30'\n",
            " '2016-07-31']\n"
          ]
        }
      ]
    },
    {
      "cell_type": "markdown",
      "metadata": {
        "id": "252c43e2"
      },
      "source": [
        "#### 29. How to compute ((A+B)*(-A/2)) in place (without copy)? (★★☆)\n",
        "Hint : use `numpy.add`, `numpy.divide`,`numpy.negative`, `numpy.multiply` and parameter `out` of the funtions"
      ],
      "id": "252c43e2"
    },
    {
      "cell_type": "code",
      "metadata": {
        "id": "f06ff615",
        "colab": {
          "base_uri": "https://localhost:8080/"
        },
        "outputId": "03de8277-938d-4f0b-9324-f448b8c7afcb"
      },
      "source": [
        "A = np.ones(3)*1\n",
        "B = np.ones(3)*2\n",
        "np.add(A,B,out=B)\n",
        "np.divide(A,2,out=A)\n",
        "np.negative(A,out=A)\n",
        "np.multiply(A,B,out=A)"
      ],
      "id": "f06ff615",
      "execution_count": 13,
      "outputs": [
        {
          "output_type": "execute_result",
          "data": {
            "text/plain": [
              "array([-1.5, -1.5, -1.5])"
            ]
          },
          "metadata": {},
          "execution_count": 13
        }
      ]
    },
    {
      "cell_type": "markdown",
      "metadata": {
        "id": "486df8ea"
      },
      "source": [
        "#### 30. Extract the integer part of a random array of positive numbers using 2 different methods (★★☆)\n",
        "Hint : `%`, `//`"
      ],
      "id": "486df8ea"
    },
    {
      "cell_type": "code",
      "metadata": {
        "id": "34b4fa08",
        "colab": {
          "base_uri": "https://localhost:8080/"
        },
        "outputId": "d2be5107-bc83-4b7f-b1ae-331095e55b1b"
      },
      "source": [
        "array=np.random.uniform(0,5,5)\n",
        "print(array-array%1)\n",
        "print(array//1)"
      ],
      "id": "34b4fa08",
      "execution_count": 14,
      "outputs": [
        {
          "output_type": "stream",
          "name": "stdout",
          "text": [
            "[3. 2. 4. 2. 1.]\n",
            "[3. 2. 4. 2. 1.]\n"
          ]
        }
      ]
    },
    {
      "cell_type": "markdown",
      "metadata": {
        "id": "649e89f9"
      },
      "source": [
        "#### 31. Create a 5x5 matrix with row values ranging from 0 to 4 (★★☆)"
      ],
      "id": "649e89f9"
    },
    {
      "cell_type": "code",
      "metadata": {
        "id": "663cc611",
        "colab": {
          "base_uri": "https://localhost:8080/"
        },
        "outputId": "939a93e1-2fb7-4d34-fa9f-ce7a14691967"
      },
      "source": [
        "matrix=np.zeros((5,5))\n",
        "matrix+=np.arange(5)\n",
        "print(matrix)"
      ],
      "id": "663cc611",
      "execution_count": 15,
      "outputs": [
        {
          "output_type": "stream",
          "name": "stdout",
          "text": [
            "[[0. 1. 2. 3. 4.]\n",
            " [0. 1. 2. 3. 4.]\n",
            " [0. 1. 2. 3. 4.]\n",
            " [0. 1. 2. 3. 4.]\n",
            " [0. 1. 2. 3. 4.]]\n"
          ]
        }
      ]
    },
    {
      "cell_type": "markdown",
      "metadata": {
        "id": "2d07be1c"
      },
      "source": [
        "#### 32. Create a random vector of size 10 and sort it (★★☆)"
      ],
      "id": "2d07be1c"
    },
    {
      "cell_type": "code",
      "metadata": {
        "id": "4f7cb3ad",
        "colab": {
          "base_uri": "https://localhost:8080/"
        },
        "outputId": "9d7945a6-3f3c-4e91-a1f6-db0c6fcbc6f7"
      },
      "source": [
        "vect=np.random.random(10)\n",
        "print(vect)\n",
        "vect.sort()\n",
        "print(vect)"
      ],
      "id": "4f7cb3ad",
      "execution_count": 16,
      "outputs": [
        {
          "output_type": "stream",
          "name": "stdout",
          "text": [
            "[0.84111865 0.58835254 0.37780665 0.83939786 0.21232341 0.12363901\n",
            " 0.40997891 0.14970108 0.44892508 0.23732677]\n",
            "[0.12363901 0.14970108 0.21232341 0.23732677 0.37780665 0.40997891\n",
            " 0.44892508 0.58835254 0.83939786 0.84111865]\n"
          ]
        }
      ]
    },
    {
      "cell_type": "markdown",
      "metadata": {
        "id": "fe043549"
      },
      "source": [
        "#### 33. Consider two random array A and B, check if they are equal (★★☆)\n",
        "```python\n",
        "A = np.random.randint(0,2,5)\n",
        "B = np.random.randint(0,2,5)\n",
        "```\n",
        "Hint : Use `numpy.array_equal()`"
      ],
      "id": "fe043549"
    },
    {
      "cell_type": "code",
      "metadata": {
        "id": "3326a686",
        "colab": {
          "base_uri": "https://localhost:8080/"
        },
        "outputId": "a8ba71f0-1299-4539-bec2-3184e2caa229"
      },
      "source": [
        "A = np.random.randint(0,2,5)\n",
        "B = np.random.randint(0,2,5)\n",
        "\n",
        "#방법1-Assuming identical shape of the arrays and a tolerance for the comparison of values\n",
        "equal=np.allclose(A,B)\n",
        "print(equal)\n",
        "\n",
        "#방법2-Checking both the shape and the element values, no tolerance (values have to be exactly equal)\n",
        "equal=np.array_equal(A,B)\n",
        "print(equal)"
      ],
      "id": "3326a686",
      "execution_count": 22,
      "outputs": [
        {
          "output_type": "stream",
          "name": "stdout",
          "text": [
            "False\n",
            "False\n"
          ]
        }
      ]
    },
    {
      "cell_type": "markdown",
      "metadata": {
        "id": "2002cb03"
      },
      "source": [
        "#### 34. Consider a random 10x2 matrix representing cartesian coordinates, convert them to polar coordinates (★★☆)\n",
        "Hint 1 : Note that cartesian coodinate **(x, y)** can be represented as  polar coordinates **(distance from origin to (x,y), angle from the x-axis)**\n",
        "\n",
        "Hint 2 : Use `numpy.sqrt` and `numpy.arctan2`"
      ],
      "id": "2002cb03"
    },
    {
      "cell_type": "code",
      "metadata": {
        "id": "58be72bc",
        "colab": {
          "base_uri": "https://localhost:8080/"
        },
        "outputId": "078e332a-3310-40a5-956a-582ff0339f51"
      },
      "source": [
        "Z=np.random.random((10,2))\n",
        "X,Y=Z[:,0], Z[:,1]\n",
        "R=np.sqrt(X**2+Y**2)\n",
        "T=np.arctan2(Y,X)\n",
        "print(R)\n",
        "print(T)"
      ],
      "id": "58be72bc",
      "execution_count": 23,
      "outputs": [
        {
          "output_type": "stream",
          "name": "stdout",
          "text": [
            "[0.94122259 0.98152958 0.21981836 0.56945783 1.21194404 0.98617799\n",
            " 1.14892184 0.75018375 0.93470449 0.74098692]\n",
            "[1.2666151  0.28903723 0.33467717 1.12516296 0.86817694 0.0419536\n",
            " 0.67686587 0.54572965 0.4782592  1.41616245]\n"
          ]
        }
      ]
    },
    {
      "cell_type": "markdown",
      "metadata": {
        "id": "b7109c9f"
      },
      "source": [
        "#### 35. Create random vector Z of size 10 and replace the maximum value by 0 (★★☆)\n",
        "Hint : We can see the index of maximum value using `Z.argmax()`"
      ],
      "id": "b7109c9f"
    },
    {
      "cell_type": "code",
      "metadata": {
        "id": "f79e79a7",
        "colab": {
          "base_uri": "https://localhost:8080/"
        },
        "outputId": "4c47440e-7cbe-4e81-d70a-ce4ac9e2e23c"
      },
      "source": [
        "Z=np.random.random(10)\n",
        "Z[Z.argmax()]=0\n",
        "print(Z)"
      ],
      "id": "f79e79a7",
      "execution_count": 24,
      "outputs": [
        {
          "output_type": "stream",
          "name": "stdout",
          "text": [
            "[0.74211213 0.83700182 0.45856159 0.55678152 0.59203389 0.\n",
            " 0.38554513 0.46174899 0.00897729 0.01386557]\n"
          ]
        }
      ]
    },
    {
      "cell_type": "markdown",
      "metadata": {
        "id": "e6e1ae2f"
      },
      "source": [
        "#### 36. How to find the closest value (to a given scalar v) in a vector Z? (★★☆)\n",
        "```python\n",
        "Z = np.arange(100)\n",
        "v = np.random.uniform(0,100)\n",
        "```\n",
        "Hint : Coumpute the distances between the each elements of Z and the scalar v. After that, we can see the index of minimum value using `argmin()`.  "
      ],
      "id": "e6e1ae2f"
    },
    {
      "cell_type": "code",
      "source": [
        "Z = np.arange(100)\n",
        "v = np.random.uniform(0,100)\n",
        "index=(np.abs(Z-v)).argmin()\n",
        "print(Z[index])"
      ],
      "metadata": {
        "id": "QkQ2Mii77FrE",
        "colab": {
          "base_uri": "https://localhost:8080/"
        },
        "outputId": "fab68d69-9f56-41f9-b859-c23719f4aaf7"
      },
      "id": "QkQ2Mii77FrE",
      "execution_count": 25,
      "outputs": [
        {
          "output_type": "stream",
          "name": "stdout",
          "text": [
            "22\n"
          ]
        }
      ]
    },
    {
      "cell_type": "markdown",
      "metadata": {
        "id": "f98713a6"
      },
      "source": [
        "#### 37. What is the equivalent of enumerate for numpy arrays? (★★☆)\n",
        "Hint : Use `numpy.ndenumerate()`or `numpy.ndindex()`\n",
        "\n",
        "Example of the output :\n",
        "```python\n",
        "Z = np.arange(9).reshape(3,3)\n",
        "```\n",
        "```python\n",
        "# output\n",
        "(0, 0) 0\n",
        "(0, 1) 1\n",
        "(0, 2) 2\n",
        "(1, 0) 3\n",
        "(1, 1) 4\n",
        "(1, 2) 5\n",
        "(2, 0) 6\n",
        "(2, 1) 7\n",
        "(2, 2) 8\n",
        "```"
      ],
      "id": "f98713a6"
    },
    {
      "cell_type": "code",
      "metadata": {
        "id": "64795f84",
        "colab": {
          "base_uri": "https://localhost:8080/"
        },
        "outputId": "d3e299b7-ea80-4734-dfb1-c078df3d196a"
      },
      "source": [
        "Z = np.arange(9).reshape(3,3)\n",
        "#방법1\n",
        "for index, value in np.ndenumerate(Z):\n",
        "    print(index, value)\n",
        "#방법2\n",
        "for index in np.ndindex(Z.shape):\n",
        "    print(index, Z[index])"
      ],
      "id": "64795f84",
      "execution_count": 26,
      "outputs": [
        {
          "output_type": "stream",
          "name": "stdout",
          "text": [
            "(0, 0) 0\n",
            "(0, 1) 1\n",
            "(0, 2) 2\n",
            "(1, 0) 3\n",
            "(1, 1) 4\n",
            "(1, 2) 5\n",
            "(2, 0) 6\n",
            "(2, 1) 7\n",
            "(2, 2) 8\n",
            "(0, 0) 0\n",
            "(0, 1) 1\n",
            "(0, 2) 2\n",
            "(1, 0) 3\n",
            "(1, 1) 4\n",
            "(1, 2) 5\n",
            "(2, 0) 6\n",
            "(2, 1) 7\n",
            "(2, 2) 8\n"
          ]
        }
      ]
    },
    {
      "cell_type": "markdown",
      "metadata": {
        "id": "0cf413ee"
      },
      "source": [
        "#### 38. How to randomly place p elements in a 2D array? (★★☆)\n",
        "Hint : modify the code below\n",
        "```python\n",
        "n = 'size of a 2D array'\n",
        "p = 'the number of elements that you want to place'\n",
        "Z = np.zeros((n,n))\n",
        "np.put(Z, np.random.choice(range(n*n), p, replace = False),'value that you want to place')\n",
        "print(Z)\n",
        "```"
      ],
      "id": "0cf413ee"
    },
    {
      "cell_type": "code",
      "metadata": {
        "id": "dfc57e06",
        "colab": {
          "base_uri": "https://localhost:8080/"
        },
        "outputId": "0ea2c9fd-af10-49e6-8a80-2bac56d9b45a"
      },
      "source": [
        "n=10\n",
        "p=3\n",
        "Z=np.zeros((n,n))\n",
        "np.put(Z, np.random.choice(range(n*n), p, replace=False),1)\n",
        "print(Z)"
      ],
      "id": "dfc57e06",
      "execution_count": 27,
      "outputs": [
        {
          "output_type": "stream",
          "name": "stdout",
          "text": [
            "[[0. 0. 0. 0. 0. 0. 0. 0. 0. 0.]\n",
            " [0. 0. 0. 0. 0. 0. 0. 0. 0. 0.]\n",
            " [0. 0. 0. 0. 0. 0. 0. 0. 0. 0.]\n",
            " [0. 0. 0. 0. 0. 0. 0. 0. 0. 0.]\n",
            " [0. 0. 0. 0. 0. 0. 0. 1. 0. 0.]\n",
            " [0. 0. 0. 0. 0. 0. 0. 0. 0. 0.]\n",
            " [0. 0. 0. 0. 0. 0. 0. 0. 0. 0.]\n",
            " [0. 0. 0. 0. 0. 0. 1. 0. 0. 0.]\n",
            " [0. 0. 0. 1. 0. 0. 0. 0. 0. 0.]\n",
            " [0. 0. 0. 0. 0. 0. 0. 0. 0. 0.]]\n"
          ]
        }
      ]
    },
    {
      "cell_type": "markdown",
      "metadata": {
        "id": "c0cf37e0"
      },
      "source": [
        "#### 39. How to sort an array below by the nth column? (★★☆)\n",
        "```python\n",
        "Z = np.random.randint(0,10,(3,3))\n",
        "```"
      ],
      "id": "c0cf37e0"
    },
    {
      "cell_type": "code",
      "metadata": {
        "id": "9336ca5f",
        "colab": {
          "base_uri": "https://localhost:8080/"
        },
        "outputId": "261e3dff-8975-486a-86ee-0569a35b2d24"
      },
      "source": [
        "#column 1\n",
        "Z = np.random.randint(0,10,(3,3))\n",
        "\n",
        "print(Z)\n",
        "print(Z[Z[:,0].argsort()])"
      ],
      "id": "9336ca5f",
      "execution_count": 28,
      "outputs": [
        {
          "output_type": "stream",
          "name": "stdout",
          "text": [
            "[[6 3 5]\n",
            " [6 1 2]\n",
            " [8 0 2]]\n",
            "[[6 3 5]\n",
            " [6 1 2]\n",
            " [8 0 2]]\n"
          ]
        }
      ]
    },
    {
      "cell_type": "code",
      "source": [
        "#column 2\n",
        "print(Z)\n",
        "print(Z[Z[:,1].argsort()])"
      ],
      "metadata": {
        "id": "0hZzZ6tn2K6V",
        "colab": {
          "base_uri": "https://localhost:8080/"
        },
        "outputId": "471f5ed6-9740-4b7d-edc0-01aa259d4f04"
      },
      "id": "0hZzZ6tn2K6V",
      "execution_count": 29,
      "outputs": [
        {
          "output_type": "stream",
          "name": "stdout",
          "text": [
            "[[6 3 5]\n",
            " [6 1 2]\n",
            " [8 0 2]]\n",
            "[[8 0 2]\n",
            " [6 1 2]\n",
            " [6 3 5]]\n"
          ]
        }
      ]
    },
    {
      "cell_type": "code",
      "source": [
        "#column 3\n",
        "print(Z)\n",
        "print(Z[Z[:,2].argsort()])"
      ],
      "metadata": {
        "id": "z4zqQXvt2NaB",
        "colab": {
          "base_uri": "https://localhost:8080/"
        },
        "outputId": "cf3faa5c-0d99-44f2-b0a6-7546f99f3f70"
      },
      "id": "z4zqQXvt2NaB",
      "execution_count": 30,
      "outputs": [
        {
          "output_type": "stream",
          "name": "stdout",
          "text": [
            "[[6 3 5]\n",
            " [6 1 2]\n",
            " [8 0 2]]\n",
            "[[6 1 2]\n",
            " [8 0 2]\n",
            " [6 3 5]]\n"
          ]
        }
      ]
    }
  ]
}